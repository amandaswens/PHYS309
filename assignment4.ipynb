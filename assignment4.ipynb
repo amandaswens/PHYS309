{
 "cells": [
  {
   "cell_type": "markdown",
   "id": "33885243",
   "metadata": {},
   "source": [
    "# Bohr models of ions\n",
    "\n",
    "The Bohr model works for atoms with only one electron. Adding electrons would require accounting for their mutual Coulomb forces, which would depend on the electrons' locations in their orbits. However, there are ions that have only one electron, for which a small modification to the Bohr model can predict their energy levels.\n",
    "\n",
    "Read the notebook <tt>Bohr_model_extensions.ipynb</tt>, which is on the class GitHub page. You will be using Equation 1 to compare the photon energy that correspond to energy level transitions in hydrogen, singly-ionized helium, and doubly-ionized lithium.\n",
    "\n",
    "Note: you are responsible for importing the packages you need and making sure your axis labels are large enough to be readable.\n",
    "\n",
    "<ol>\n",
    "    <li>Write a function that finds the photon <em>energy</em> in eV (calculate it from the wavelength predicted by the Rydberg equation) that moves an electron between levels $n$ and $n+1$. The independent variables of your function should be $Z$ (atomic number) and $n$. Do not hand-code any constants: use the pre-programmed values in <tt>scipy</tt>.</li>\n",
    "</ol>"
   ]
  },
  {
   "cell_type": "code",
   "execution_count": 20,
   "id": "7dbdd338-6f2a-4491-8880-e52e6a0f7604",
   "metadata": {
    "tags": []
   },
   "outputs": [],
   "source": [
    "import math\n",
    "import array\n",
    "import numpy as np\n",
    "import matplotlib.pyplot as plt\n",
    "from scipy import constants"
   ]
  },
  {
   "cell_type": "code",
   "execution_count": 86,
   "id": "d9969682",
   "metadata": {
    "tags": []
   },
   "outputs": [],
   "source": [
    "def photon_energy(Z, n):\n",
    "    return (constants.h * constants.c * ((Z**2 * constants.Rydberg) * (1/(n**2) - 1/((n+1)**2))))/(constants.e)"
   ]
  },
  {
   "cell_type": "markdown",
   "id": "3eb29aa5",
   "metadata": {},
   "source": [
    "<ol start = 2>\n",
    "    <li>Use the python function of your choice to create an integer <em>array</em> (not list) of values $n = 1, 2, \\ldots, 10$. Do not simply hard-code in all the numbers by hand. Create a second array (not list) of atomic numbers $Z = 1, 2, 3$, again using a python function.</li>\n",
    "</ol>"
   ]
  },
  {
   "cell_type": "code",
   "execution_count": 73,
   "id": "105af0f4",
   "metadata": {
    "tags": []
   },
   "outputs": [
    {
     "name": "stdout",
     "output_type": "stream",
     "text": [
      "[ 1  2  3  4  5  6  7  8  9 10] [1 2 3]\n"
     ]
    }
   ],
   "source": [
    "n_array = np.arange (1,11)\n",
    "Z_array =np.arange (1,4)\n",
    "print(n_array, Z_array)"
   ]
  },
  {
   "cell_type": "markdown",
   "id": "584fa7e4-049b-410c-9165-6e7acccc4766",
   "metadata": {
    "tags": []
   },
   "source": [
    "3. For each combination of $Z$ and $n$, calculate the energy of light required to move from level $n$ to $n+1$. Store the results in an array with 3 rows and 10 columns. You may find the meshgrid command helpful."
   ]
  },
  {
   "cell_type": "code",
   "execution_count": 110,
   "id": "79be872b-d4bf-4129-9f8c-b18df18eb874",
   "metadata": {
    "tags": []
   },
   "outputs": [
    {
     "name": "stdout",
     "output_type": "stream",
     "text": [
      "[[ 7 17 30]\n",
      " [ 2  5 10]\n",
      " [ 1  2  4]\n",
      " [ 0  1  2]\n",
      " [ 0  0  1]\n",
      " [ 0  0  1]\n",
      " [ 0  0  0]\n",
      " [ 0  0  0]\n",
      " [ 0  0  0]\n",
      " [ 0  0  0]]\n"
     ]
    }
   ],
   "source": [
    "Z_array = np.arange(1, 4)  \n",
    "n_array = np.arange(1, 11)\n",
    "\n",
    "Z_mesh, n_mesh = np.meshgrid(Z_array, n_array)\n",
    "energy = (constants.h * constants.c * ((Z_mesh**2 * constants.Rydberg) * (1/(n_mesh**2) - 1/((n_mesh+1)**2))))/(constants.e)\n",
    "\n",
    "values = np.array(Z_mesh)\n",
    "\n",
    "for i in range(0,3,1):\n",
    "    for j in range (0,10,1):\n",
    "        values[j,i]=photon_energy(Z_array[i]+1, n_array[j]+1)\n",
    "        \n",
    "print(values)"
   ]
  },
  {
   "cell_type": "markdown",
   "id": "4ce0665f",
   "metadata": {},
   "source": [
    "<ol start=4>\n",
    "    <li>Now you are going to make a color-coded plot. With $n$ on the x-axis and $z$ on the y-axis, add a circle to your plot at each $(n,z)$ ordered pair with the color determined by the energy calculated in question 3. Make sure your plot has a colorbar to show the energy scale, and put units on the colorbar. x and y axes should also be labeled.</li>\n",
    "</ol>\n",
    "\n",
    "I am including an example plot showing arbitrary dependent variable $w$ on a color scale as a function of independent variables $u$ and $v$. None of these variables mean anything; this example is just to help you visualize what your plot should look like."
   ]
  },
  {
   "cell_type": "code",
   "execution_count": 113,
   "id": "c542519e-263f-4401-8fbb-1e542dcce2ce",
   "metadata": {
    "tags": []
   },
   "outputs": [
    {
     "data": {
      "image/png": "[encoded data removed]",
      "text/plain": [
       "<Figure size 600x600 with 2 Axes>"
      ]
     },
     "metadata": {},
     "output_type": "display_data"
    }
   ],
   "source": [
    "from mpl_toolkits.axes_grid1 import make_axes_locatable\n",
    "\n",
    "Z = np.arange(1, 4)  \n",
    "n = np.arange(1, 11) \n",
    "\n",
    "Zv, nv = np.meshgrid(Z, n)\n",
    "\n",
    "fig, ax = plt.subplots(1, 1, figsize=(6,6))\n",
    "plot1 = ax.scatter(nv, Zv, c=values, cmap='rainbow')\n",
    "ax.set_aspect('equal')\n",
    "\n",
    "divider = make_axes_locatable(ax)\n",
    "cax = divider.append_axes(\"right\", size=\"8%\", pad=0.1)\n",
    "cbar = plt.colorbar(plot1, cax=cax)\n",
    "cbar.ax.tick_params(labelsize=11) \n",
    "cbar.set_label('Energy (eV)')\n",
    "\n",
    "ax.set_xlabel('n')\n",
    "ax.set_ylabel('Z')\n",
    "ax.set_title('Energy required for transition from n to n+1')\n",
    "ax.set_xticks(np.arange(1, 11))\n",
    "\n",
    "plt.show()"
   ]
  }
 ],
 "metadata": {
  "kernelspec": {
   "display_name": "Python 3 (ipykernel)",
   "language": "python",
   "name": "python3"
  },
  "language_info": {
   "codemirror_mode": {
    "name": "ipython",
    "version": 3
   },
   "file_extension": ".py",
   "mimetype": "text/x-python",
   "name": "python",
   "nbconvert_exporter": "python",
   "pygments_lexer": "ipython3",
   "version": "3.11.5"
  }
 },
 "nbformat": 4,
 "nbformat_minor": 5
}
